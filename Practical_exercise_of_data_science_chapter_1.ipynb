{
 "cells": [
  {
   "cell_type": "markdown",
   "id": "cb838c60",
   "metadata": {},
   "source": [
    "# Exploratory Data Analysis"
   ]
  },
  {
   "cell_type": "code",
   "execution_count": 1,
   "id": "79d9e4d9",
   "metadata": {},
   "outputs": [],
   "source": [
    "import pandas as pd\n",
    "import numpy as np\n",
    "import seaborn as sns\n",
    "import matplotlib.pyplot as plt"
   ]
  },
  {
   "cell_type": "markdown",
   "id": "c9f89c99",
   "metadata": {},
   "source": [
    "# Import Different Data Sets"
   ]
  },
  {
   "cell_type": "code",
   "execution_count": 2,
   "id": "ff47ccf0",
   "metadata": {},
   "outputs": [],
   "source": [
    "imdb = pd.read_excel('./data/imdb.xlsx')"
   ]
  },
  {
   "cell_type": "code",
   "execution_count": 3,
   "id": "dbc507e9",
   "metadata": {},
   "outputs": [],
   "source": [
    "player = pd.read_csv('./data/player.csv')"
   ]
  },
  {
   "cell_type": "code",
   "execution_count": 4,
   "id": "4046e068",
   "metadata": {},
   "outputs": [],
   "source": [
    "studentperformance = pd.read_csv('./data/StudentsPerformance.csv') "
   ]
  },
  {
   "cell_type": "code",
   "execution_count": 42,
   "id": "2d9a19b1",
   "metadata": {
    "scrolled": false
   },
   "outputs": [
    {
     "data": {
      "text/html": [
       "<div>\n",
       "<style scoped>\n",
       "    .dataframe tbody tr th:only-of-type {\n",
       "        vertical-align: middle;\n",
       "    }\n",
       "\n",
       "    .dataframe tbody tr th {\n",
       "        vertical-align: top;\n",
       "    }\n",
       "\n",
       "    .dataframe thead th {\n",
       "        text-align: right;\n",
       "    }\n",
       "</style>\n",
       "<table border=\"1\" class=\"dataframe\">\n",
       "  <thead>\n",
       "    <tr style=\"text-align: right;\">\n",
       "      <th></th>\n",
       "      <th>Title</th>\n",
       "      <th>Release Date</th>\n",
       "      <th>Year</th>\n",
       "      <th>Color/B&amp;W</th>\n",
       "      <th>Genre</th>\n",
       "      <th>Language</th>\n",
       "      <th>Country</th>\n",
       "      <th>Rating</th>\n",
       "      <th>Lead Actor</th>\n",
       "      <th>Director Name</th>\n",
       "      <th>...</th>\n",
       "      <th>Cast FB Likes</th>\n",
       "      <th>Director FB Likes</th>\n",
       "      <th>Movie FB Likes</th>\n",
       "      <th>IMDb Score (1-10)</th>\n",
       "      <th>Total Reviews</th>\n",
       "      <th>Duration (min)</th>\n",
       "      <th>Gross Revenue</th>\n",
       "      <th>Budget</th>\n",
       "      <th>Unnamed: 19</th>\n",
       "      <th>Unnamed: 20</th>\n",
       "    </tr>\n",
       "  </thead>\n",
       "  <tbody>\n",
       "    <tr>\n",
       "      <th>0</th>\n",
       "      <td>Over the Hill to the Poorhouse</td>\n",
       "      <td>1920-09-15</td>\n",
       "      <td>1920</td>\n",
       "      <td>Black and White</td>\n",
       "      <td>Crime</td>\n",
       "      <td>English</td>\n",
       "      <td>USA</td>\n",
       "      <td>Not Rated</td>\n",
       "      <td>Stephen Carr</td>\n",
       "      <td>Harry F. Millarde</td>\n",
       "      <td>...</td>\n",
       "      <td>NaN</td>\n",
       "      <td>NaN</td>\n",
       "      <td>NaN</td>\n",
       "      <td>NaN</td>\n",
       "      <td>NaN</td>\n",
       "      <td>NaN</td>\n",
       "      <td>NaN</td>\n",
       "      <td>NaN</td>\n",
       "      <td>NaN</td>\n",
       "      <td>NaN</td>\n",
       "    </tr>\n",
       "    <tr>\n",
       "      <th>1</th>\n",
       "      <td>Metropolis</td>\n",
       "      <td>1927-01-26</td>\n",
       "      <td>1927</td>\n",
       "      <td>Black and White</td>\n",
       "      <td>Drama</td>\n",
       "      <td>German</td>\n",
       "      <td>Germany</td>\n",
       "      <td>Not Rated</td>\n",
       "      <td>Brigitte Helm</td>\n",
       "      <td>Fritz Lang</td>\n",
       "      <td>...</td>\n",
       "      <td>203.0</td>\n",
       "      <td>756.0</td>\n",
       "      <td>12000.0</td>\n",
       "      <td>8.3</td>\n",
       "      <td>260.0</td>\n",
       "      <td>145.0</td>\n",
       "      <td>26435.0</td>\n",
       "      <td>6000000.0</td>\n",
       "      <td>NaN</td>\n",
       "      <td>NaN</td>\n",
       "    </tr>\n",
       "    <tr>\n",
       "      <th>2</th>\n",
       "      <td>The Broadway Melody</td>\n",
       "      <td>1929-11-11</td>\n",
       "      <td>1929</td>\n",
       "      <td>Black and White</td>\n",
       "      <td>Musical</td>\n",
       "      <td>English</td>\n",
       "      <td>USA</td>\n",
       "      <td>Passed</td>\n",
       "      <td>Anita Page</td>\n",
       "      <td>Harry Beaumont</td>\n",
       "      <td>...</td>\n",
       "      <td>109.0</td>\n",
       "      <td>4.0</td>\n",
       "      <td>167.0</td>\n",
       "      <td>6.3</td>\n",
       "      <td>36.0</td>\n",
       "      <td>100.0</td>\n",
       "      <td>2808000.0</td>\n",
       "      <td>379000.0</td>\n",
       "      <td>NaN</td>\n",
       "      <td>NaN</td>\n",
       "    </tr>\n",
       "    <tr>\n",
       "      <th>3</th>\n",
       "      <td>42nd Street</td>\n",
       "      <td>1933-08-29</td>\n",
       "      <td>1933</td>\n",
       "      <td>Black and White</td>\n",
       "      <td>Comedy</td>\n",
       "      <td>English</td>\n",
       "      <td>USA</td>\n",
       "      <td>Unrated</td>\n",
       "      <td>Ginger Rogers</td>\n",
       "      <td>Lloyd Bacon</td>\n",
       "      <td>...</td>\n",
       "      <td>995.0</td>\n",
       "      <td>24.0</td>\n",
       "      <td>439.0</td>\n",
       "      <td>7.7</td>\n",
       "      <td>65.0</td>\n",
       "      <td>89.0</td>\n",
       "      <td>2300000.0</td>\n",
       "      <td>439000.0</td>\n",
       "      <td>NaN</td>\n",
       "      <td>NaN</td>\n",
       "    </tr>\n",
       "    <tr>\n",
       "      <th>4</th>\n",
       "      <td>Top Hat</td>\n",
       "      <td>1935-04-15</td>\n",
       "      <td>1935</td>\n",
       "      <td>Black and White</td>\n",
       "      <td>Comedy</td>\n",
       "      <td>English</td>\n",
       "      <td>USA</td>\n",
       "      <td>Approved</td>\n",
       "      <td>Ginger Rogers</td>\n",
       "      <td>Mark Sandrich</td>\n",
       "      <td>...</td>\n",
       "      <td>824.0</td>\n",
       "      <td>10.0</td>\n",
       "      <td>1000.0</td>\n",
       "      <td>7.8</td>\n",
       "      <td>66.0</td>\n",
       "      <td>81.0</td>\n",
       "      <td>3000000.0</td>\n",
       "      <td>609000.0</td>\n",
       "      <td>NaN</td>\n",
       "      <td>NaN</td>\n",
       "    </tr>\n",
       "  </tbody>\n",
       "</table>\n",
       "<p>5 rows × 21 columns</p>\n",
       "</div>"
      ],
      "text/plain": [
       "                            Title Release Date  Year        Color/B&W  \\\n",
       "0  Over the Hill to the Poorhouse   1920-09-15  1920  Black and White   \n",
       "1                      Metropolis   1927-01-26  1927  Black and White   \n",
       "2             The Broadway Melody   1929-11-11  1929  Black and White   \n",
       "3                     42nd Street   1933-08-29  1933  Black and White   \n",
       "4                         Top Hat   1935-04-15  1935  Black and White   \n",
       "\n",
       "     Genre Language  Country     Rating     Lead Actor      Director Name  \\\n",
       "0    Crime  English      USA  Not Rated   Stephen Carr  Harry F. Millarde   \n",
       "1    Drama   German  Germany  Not Rated  Brigitte Helm         Fritz Lang   \n",
       "2  Musical  English      USA     Passed     Anita Page     Harry Beaumont   \n",
       "3   Comedy  English      USA    Unrated  Ginger Rogers        Lloyd Bacon   \n",
       "4   Comedy  English      USA   Approved  Ginger Rogers      Mark Sandrich   \n",
       "\n",
       "   ...  Cast FB Likes  Director FB Likes  Movie FB Likes  IMDb Score (1-10)  \\\n",
       "0  ...            NaN                NaN             NaN                NaN   \n",
       "1  ...          203.0              756.0         12000.0                8.3   \n",
       "2  ...          109.0                4.0           167.0                6.3   \n",
       "3  ...          995.0               24.0           439.0                7.7   \n",
       "4  ...          824.0               10.0          1000.0                7.8   \n",
       "\n",
       "   Total Reviews  Duration (min)  Gross Revenue     Budget  Unnamed: 19  \\\n",
       "0            NaN             NaN            NaN        NaN          NaN   \n",
       "1          260.0           145.0        26435.0  6000000.0          NaN   \n",
       "2           36.0           100.0      2808000.0   379000.0          NaN   \n",
       "3           65.0            89.0      2300000.0   439000.0          NaN   \n",
       "4           66.0            81.0      3000000.0   609000.0          NaN   \n",
       "\n",
       "   Unnamed: 20  \n",
       "0          NaN  \n",
       "1          NaN  \n",
       "2          NaN  \n",
       "3          NaN  \n",
       "4          NaN  \n",
       "\n",
       "[5 rows x 21 columns]"
      ]
     },
     "execution_count": 42,
     "metadata": {},
     "output_type": "execute_result"
    }
   ],
   "source": [
    "imdb.head()"
   ]
  },
  {
   "cell_type": "code",
   "execution_count": 72,
   "id": "23fd007d",
   "metadata": {},
   "outputs": [],
   "source": [
    "imdb.drop(imdb[imdb['Gross Revenue'] > 300000000].index, inplace = True)"
   ]
  },
  {
   "cell_type": "code",
   "execution_count": 99,
   "id": "7212aed0",
   "metadata": {},
   "outputs": [
    {
     "data": {
      "text/plain": [
       "300000000.0"
      ]
     },
     "execution_count": 99,
     "metadata": {},
     "output_type": "execute_result"
    }
   ],
   "source": [
    "imdb['Budget'].max()"
   ]
  },
  {
   "cell_type": "code",
   "execution_count": 6,
   "id": "221f619d",
   "metadata": {},
   "outputs": [
    {
     "data": {
      "text/html": [
       "<div>\n",
       "<style scoped>\n",
       "    .dataframe tbody tr th:only-of-type {\n",
       "        vertical-align: middle;\n",
       "    }\n",
       "\n",
       "    .dataframe tbody tr th {\n",
       "        vertical-align: top;\n",
       "    }\n",
       "\n",
       "    .dataframe thead th {\n",
       "        text-align: right;\n",
       "    }\n",
       "</style>\n",
       "<table border=\"1\" class=\"dataframe\">\n",
       "  <thead>\n",
       "    <tr style=\"text-align: right;\">\n",
       "      <th></th>\n",
       "      <th>Unnamed: 0</th>\n",
       "      <th>ID</th>\n",
       "      <th>Name</th>\n",
       "      <th>Age</th>\n",
       "      <th>Photo</th>\n",
       "      <th>Nationality</th>\n",
       "      <th>Flag</th>\n",
       "      <th>Overall</th>\n",
       "      <th>Potential</th>\n",
       "      <th>Club</th>\n",
       "      <th>...</th>\n",
       "      <th>Composure</th>\n",
       "      <th>Marking</th>\n",
       "      <th>StandingTackle</th>\n",
       "      <th>SlidingTackle</th>\n",
       "      <th>GKDiving</th>\n",
       "      <th>GKHandling</th>\n",
       "      <th>GKKicking</th>\n",
       "      <th>GKPositioning</th>\n",
       "      <th>GKReflexes</th>\n",
       "      <th>Release Clause</th>\n",
       "    </tr>\n",
       "  </thead>\n",
       "  <tbody>\n",
       "    <tr>\n",
       "      <th>0</th>\n",
       "      <td>0</td>\n",
       "      <td>158023</td>\n",
       "      <td>L. Messi</td>\n",
       "      <td>31</td>\n",
       "      <td>https://cdn.sofifa.org/players/4/19/158023.png</td>\n",
       "      <td>Argentina</td>\n",
       "      <td>https://cdn.sofifa.org/flags/52.png</td>\n",
       "      <td>94</td>\n",
       "      <td>94</td>\n",
       "      <td>FC Barcelona</td>\n",
       "      <td>...</td>\n",
       "      <td>96.0</td>\n",
       "      <td>33.0</td>\n",
       "      <td>28.0</td>\n",
       "      <td>26.0</td>\n",
       "      <td>6.0</td>\n",
       "      <td>11.0</td>\n",
       "      <td>15.0</td>\n",
       "      <td>14.0</td>\n",
       "      <td>8.0</td>\n",
       "      <td>€226.5M</td>\n",
       "    </tr>\n",
       "    <tr>\n",
       "      <th>1</th>\n",
       "      <td>1</td>\n",
       "      <td>20801</td>\n",
       "      <td>Cristiano Ronaldo</td>\n",
       "      <td>33</td>\n",
       "      <td>https://cdn.sofifa.org/players/4/19/20801.png</td>\n",
       "      <td>Portugal</td>\n",
       "      <td>https://cdn.sofifa.org/flags/38.png</td>\n",
       "      <td>94</td>\n",
       "      <td>94</td>\n",
       "      <td>Juventus</td>\n",
       "      <td>...</td>\n",
       "      <td>95.0</td>\n",
       "      <td>28.0</td>\n",
       "      <td>31.0</td>\n",
       "      <td>23.0</td>\n",
       "      <td>7.0</td>\n",
       "      <td>11.0</td>\n",
       "      <td>15.0</td>\n",
       "      <td>14.0</td>\n",
       "      <td>11.0</td>\n",
       "      <td>€127.1M</td>\n",
       "    </tr>\n",
       "    <tr>\n",
       "      <th>2</th>\n",
       "      <td>2</td>\n",
       "      <td>190871</td>\n",
       "      <td>Neymar Jr</td>\n",
       "      <td>26</td>\n",
       "      <td>https://cdn.sofifa.org/players/4/19/190871.png</td>\n",
       "      <td>Brazil</td>\n",
       "      <td>https://cdn.sofifa.org/flags/54.png</td>\n",
       "      <td>92</td>\n",
       "      <td>93</td>\n",
       "      <td>Paris Saint-Germain</td>\n",
       "      <td>...</td>\n",
       "      <td>94.0</td>\n",
       "      <td>27.0</td>\n",
       "      <td>24.0</td>\n",
       "      <td>33.0</td>\n",
       "      <td>9.0</td>\n",
       "      <td>9.0</td>\n",
       "      <td>15.0</td>\n",
       "      <td>15.0</td>\n",
       "      <td>11.0</td>\n",
       "      <td>€228.1M</td>\n",
       "    </tr>\n",
       "    <tr>\n",
       "      <th>3</th>\n",
       "      <td>3</td>\n",
       "      <td>193080</td>\n",
       "      <td>De Gea</td>\n",
       "      <td>27</td>\n",
       "      <td>https://cdn.sofifa.org/players/4/19/193080.png</td>\n",
       "      <td>Spain</td>\n",
       "      <td>https://cdn.sofifa.org/flags/45.png</td>\n",
       "      <td>91</td>\n",
       "      <td>93</td>\n",
       "      <td>Manchester United</td>\n",
       "      <td>...</td>\n",
       "      <td>68.0</td>\n",
       "      <td>15.0</td>\n",
       "      <td>21.0</td>\n",
       "      <td>13.0</td>\n",
       "      <td>90.0</td>\n",
       "      <td>85.0</td>\n",
       "      <td>87.0</td>\n",
       "      <td>88.0</td>\n",
       "      <td>94.0</td>\n",
       "      <td>€138.6M</td>\n",
       "    </tr>\n",
       "    <tr>\n",
       "      <th>4</th>\n",
       "      <td>4</td>\n",
       "      <td>192985</td>\n",
       "      <td>K. De Bruyne</td>\n",
       "      <td>27</td>\n",
       "      <td>https://cdn.sofifa.org/players/4/19/192985.png</td>\n",
       "      <td>Belgium</td>\n",
       "      <td>https://cdn.sofifa.org/flags/7.png</td>\n",
       "      <td>91</td>\n",
       "      <td>92</td>\n",
       "      <td>Manchester City</td>\n",
       "      <td>...</td>\n",
       "      <td>88.0</td>\n",
       "      <td>68.0</td>\n",
       "      <td>58.0</td>\n",
       "      <td>51.0</td>\n",
       "      <td>15.0</td>\n",
       "      <td>13.0</td>\n",
       "      <td>5.0</td>\n",
       "      <td>10.0</td>\n",
       "      <td>13.0</td>\n",
       "      <td>€196.4M</td>\n",
       "    </tr>\n",
       "  </tbody>\n",
       "</table>\n",
       "<p>5 rows × 89 columns</p>\n",
       "</div>"
      ],
      "text/plain": [
       "   Unnamed: 0      ID               Name  Age  \\\n",
       "0           0  158023           L. Messi   31   \n",
       "1           1   20801  Cristiano Ronaldo   33   \n",
       "2           2  190871          Neymar Jr   26   \n",
       "3           3  193080             De Gea   27   \n",
       "4           4  192985       K. De Bruyne   27   \n",
       "\n",
       "                                            Photo Nationality  \\\n",
       "0  https://cdn.sofifa.org/players/4/19/158023.png   Argentina   \n",
       "1   https://cdn.sofifa.org/players/4/19/20801.png    Portugal   \n",
       "2  https://cdn.sofifa.org/players/4/19/190871.png      Brazil   \n",
       "3  https://cdn.sofifa.org/players/4/19/193080.png       Spain   \n",
       "4  https://cdn.sofifa.org/players/4/19/192985.png     Belgium   \n",
       "\n",
       "                                  Flag  Overall  Potential  \\\n",
       "0  https://cdn.sofifa.org/flags/52.png       94         94   \n",
       "1  https://cdn.sofifa.org/flags/38.png       94         94   \n",
       "2  https://cdn.sofifa.org/flags/54.png       92         93   \n",
       "3  https://cdn.sofifa.org/flags/45.png       91         93   \n",
       "4   https://cdn.sofifa.org/flags/7.png       91         92   \n",
       "\n",
       "                  Club  ... Composure Marking StandingTackle  SlidingTackle  \\\n",
       "0         FC Barcelona  ...      96.0    33.0           28.0           26.0   \n",
       "1             Juventus  ...      95.0    28.0           31.0           23.0   \n",
       "2  Paris Saint-Germain  ...      94.0    27.0           24.0           33.0   \n",
       "3    Manchester United  ...      68.0    15.0           21.0           13.0   \n",
       "4      Manchester City  ...      88.0    68.0           58.0           51.0   \n",
       "\n",
       "  GKDiving  GKHandling  GKKicking  GKPositioning GKReflexes Release Clause  \n",
       "0      6.0        11.0       15.0           14.0        8.0        €226.5M  \n",
       "1      7.0        11.0       15.0           14.0       11.0        €127.1M  \n",
       "2      9.0         9.0       15.0           15.0       11.0        €228.1M  \n",
       "3     90.0        85.0       87.0           88.0       94.0        €138.6M  \n",
       "4     15.0        13.0        5.0           10.0       13.0        €196.4M  \n",
       "\n",
       "[5 rows x 89 columns]"
      ]
     },
     "execution_count": 6,
     "metadata": {},
     "output_type": "execute_result"
    }
   ],
   "source": [
    "player.head()"
   ]
  },
  {
   "cell_type": "code",
   "execution_count": 7,
   "id": "712a6d3c",
   "metadata": {},
   "outputs": [
    {
     "data": {
      "text/html": [
       "<div>\n",
       "<style scoped>\n",
       "    .dataframe tbody tr th:only-of-type {\n",
       "        vertical-align: middle;\n",
       "    }\n",
       "\n",
       "    .dataframe tbody tr th {\n",
       "        vertical-align: top;\n",
       "    }\n",
       "\n",
       "    .dataframe thead th {\n",
       "        text-align: right;\n",
       "    }\n",
       "</style>\n",
       "<table border=\"1\" class=\"dataframe\">\n",
       "  <thead>\n",
       "    <tr style=\"text-align: right;\">\n",
       "      <th></th>\n",
       "      <th>gender</th>\n",
       "      <th>race/ethnicity</th>\n",
       "      <th>parental level of education</th>\n",
       "      <th>lunch</th>\n",
       "      <th>test preparation course</th>\n",
       "      <th>math score</th>\n",
       "      <th>reading score</th>\n",
       "      <th>writing score</th>\n",
       "    </tr>\n",
       "  </thead>\n",
       "  <tbody>\n",
       "    <tr>\n",
       "      <th>0</th>\n",
       "      <td>female</td>\n",
       "      <td>group B</td>\n",
       "      <td>bachelor's degree</td>\n",
       "      <td>standard</td>\n",
       "      <td>none</td>\n",
       "      <td>72</td>\n",
       "      <td>72</td>\n",
       "      <td>74</td>\n",
       "    </tr>\n",
       "    <tr>\n",
       "      <th>1</th>\n",
       "      <td>female</td>\n",
       "      <td>group C</td>\n",
       "      <td>some college</td>\n",
       "      <td>standard</td>\n",
       "      <td>completed</td>\n",
       "      <td>69</td>\n",
       "      <td>90</td>\n",
       "      <td>88</td>\n",
       "    </tr>\n",
       "    <tr>\n",
       "      <th>2</th>\n",
       "      <td>female</td>\n",
       "      <td>group B</td>\n",
       "      <td>master's degree</td>\n",
       "      <td>standard</td>\n",
       "      <td>none</td>\n",
       "      <td>90</td>\n",
       "      <td>95</td>\n",
       "      <td>93</td>\n",
       "    </tr>\n",
       "    <tr>\n",
       "      <th>3</th>\n",
       "      <td>male</td>\n",
       "      <td>group A</td>\n",
       "      <td>associate's degree</td>\n",
       "      <td>free/reduced</td>\n",
       "      <td>none</td>\n",
       "      <td>47</td>\n",
       "      <td>57</td>\n",
       "      <td>44</td>\n",
       "    </tr>\n",
       "    <tr>\n",
       "      <th>4</th>\n",
       "      <td>male</td>\n",
       "      <td>group C</td>\n",
       "      <td>some college</td>\n",
       "      <td>standard</td>\n",
       "      <td>none</td>\n",
       "      <td>76</td>\n",
       "      <td>78</td>\n",
       "      <td>75</td>\n",
       "    </tr>\n",
       "  </tbody>\n",
       "</table>\n",
       "</div>"
      ],
      "text/plain": [
       "   gender race/ethnicity parental level of education         lunch  \\\n",
       "0  female        group B           bachelor's degree      standard   \n",
       "1  female        group C                some college      standard   \n",
       "2  female        group B             master's degree      standard   \n",
       "3    male        group A          associate's degree  free/reduced   \n",
       "4    male        group C                some college      standard   \n",
       "\n",
       "  test preparation course  math score  reading score  writing score  \n",
       "0                    none          72             72             74  \n",
       "1               completed          69             90             88  \n",
       "2                    none          90             95             93  \n",
       "3                    none          47             57             44  \n",
       "4                    none          76             78             75  "
      ]
     },
     "execution_count": 7,
     "metadata": {},
     "output_type": "execute_result"
    }
   ],
   "source": [
    "studentperformance.head()"
   ]
  },
  {
   "cell_type": "markdown",
   "id": "474595cb",
   "metadata": {},
   "source": [
    "# Estimates of Location"
   ]
  },
  {
   "cell_type": "markdown",
   "id": "1acf7384",
   "metadata": {},
   "source": [
    "### mean, trim mean, median "
   ]
  },
  {
   "cell_type": "code",
   "execution_count": 8,
   "id": "fe5d81d4",
   "metadata": {},
   "outputs": [
    {
     "data": {
      "text/plain": [
       "49655077.69615488"
      ]
     },
     "execution_count": 8,
     "metadata": {},
     "output_type": "execute_result"
    }
   ],
   "source": [
    "imdb['Gross Revenue'].mean()"
   ]
  },
  {
   "cell_type": "code",
   "execution_count": 9,
   "id": "6e9e76ef",
   "metadata": {},
   "outputs": [
    {
     "data": {
      "text/plain": [
       "nan"
      ]
     },
     "execution_count": 9,
     "metadata": {},
     "output_type": "execute_result"
    }
   ],
   "source": [
    "np.average(imdb['Gross Revenue'])"
   ]
  },
  {
   "cell_type": "code",
   "execution_count": 65,
   "id": "cb827435",
   "metadata": {},
   "outputs": [
    {
     "data": {
      "text/plain": [
       "23000000.0"
      ]
     },
     "execution_count": 65,
     "metadata": {},
     "output_type": "execute_result"
    }
   ],
   "source": [
    "imdb['Budget'].median()"
   ]
  },
  {
   "cell_type": "markdown",
   "id": "eda6b973",
   "metadata": {},
   "source": [
    "## Estimates of Variability"
   ]
  },
  {
   "cell_type": "code",
   "execution_count": 11,
   "id": "a98e2d2e",
   "metadata": {},
   "outputs": [
    {
     "data": {
      "text/plain": [
       "'\\nThe best-known estimates of variability are the variance and the standard deviation,\\nwhich are based on squared deviations. The variance is an average of the squared\\ndeviations, and the standard deviation is the square root of the variance:\\n'"
      ]
     },
     "execution_count": 11,
     "metadata": {},
     "output_type": "execute_result"
    }
   ],
   "source": [
    "\"\"\"\n",
    "The best-known estimates of variability are the variance and the standard deviation,\n",
    "which are based on squared deviations. The variance is an average of the squared\n",
    "deviations, and the standard deviation is the square root of the variance:\n",
    "\"\"\""
   ]
  },
  {
   "cell_type": "code",
   "execution_count": 12,
   "id": "4d1b2566",
   "metadata": {},
   "outputs": [
    {
     "data": {
      "text/plain": [
       "4.66994271341431"
      ]
     },
     "execution_count": 12,
     "metadata": {},
     "output_type": "execute_result"
    }
   ],
   "source": [
    "player['Age'].std()"
   ]
  },
  {
   "cell_type": "code",
   "execution_count": 13,
   "id": "92f606be",
   "metadata": {},
   "outputs": [
    {
     "data": {
      "text/plain": [
       "227027731.7478315"
      ]
     },
     "execution_count": 13,
     "metadata": {},
     "output_type": "execute_result"
    }
   ],
   "source": [
    "imdb['Budget'].std()"
   ]
  },
  {
   "cell_type": "code",
   "execution_count": 14,
   "id": "d47bbced",
   "metadata": {},
   "outputs": [],
   "source": [
    "# range :- difference between smallest and largest value"
   ]
  },
  {
   "cell_type": "code",
   "execution_count": 15,
   "id": "605dc149",
   "metadata": {},
   "outputs": [
    {
     "data": {
      "text/plain": [
       "12215499782.0"
      ]
     },
     "execution_count": 15,
     "metadata": {},
     "output_type": "execute_result"
    }
   ],
   "source": [
    "imdb['Budget'].max() - imdb['Budget'].min()"
   ]
  },
  {
   "cell_type": "code",
   "execution_count": 16,
   "id": "08ba019a",
   "metadata": {},
   "outputs": [
    {
     "data": {
      "text/plain": [
       "29"
      ]
     },
     "execution_count": 16,
     "metadata": {},
     "output_type": "execute_result"
    }
   ],
   "source": [
    "player['Age'].max() - player['Age'].min()"
   ]
  },
  {
   "cell_type": "markdown",
   "id": "9872bb38",
   "metadata": {},
   "source": [
    "## Box Plot "
   ]
  },
  {
   "cell_type": "code",
   "execution_count": 103,
   "id": "5dd7b8fc",
   "metadata": {},
   "outputs": [
    {
     "data": {
      "text/plain": [
       "Text(0.5, 1.0, 'IMDB movie Budgets & Gross Revenue')"
      ]
     },
     "execution_count": 103,
     "metadata": {},
     "output_type": "execute_result"
    },
    {
     "data": {
      "image/png": "[encoded data removed]",
      "text/plain": [
       "<Figure size 1080x1080 with 1 Axes>"
      ]
     },
     "metadata": {
      "needs_background": "light"
     },
     "output_type": "display_data"
    }
   ],
   "source": [
    "plt.figure(figsize=(15,15))\n",
    "imdb[['Budget','Gross Revenue']].boxplot(color='blue')\n",
    "plt.ylabel('Millions')\n",
    "plt.title('IMDB movie Budgets & Gross Revenue')"
   ]
  },
  {
   "cell_type": "markdown",
   "id": "4eef00c4",
   "metadata": {},
   "source": [
    "##### The top and bottom of the box are the 75th and 25th percentiles, respectively. The median is shown by the horizontal line in the box. The dashed lines, referred to as whiskers, extend from the top and bottom of the box to indicate the range for the bulk of the data.\n",
    "##### Any data outside of the whiskers is plotted as single points or circles (often considered outliers)."
   ]
  },
  {
   "cell_type": "code",
   "execution_count": 76,
   "id": "e9c36c68",
   "metadata": {
    "scrolled": true
   },
   "outputs": [
    {
     "data": {
      "text/plain": [
       "<AxesSubplot:>"
      ]
     },
     "execution_count": 76,
     "metadata": {},
     "output_type": "execute_result"
    },
    {
     "data": {
      "image/png": "[encoded data removed]",
      "text/plain": [
       "<Figure size 432x288 with 1 Axes>"
      ]
     },
     "metadata": {
      "needs_background": "light"
     },
     "output_type": "display_data"
    }
   ],
   "source": [
    "sns.boxplot(data=imdb['Budget'])"
   ]
  },
  {
   "cell_type": "code",
   "execution_count": 19,
   "id": "2d86ba70",
   "metadata": {
    "scrolled": true
   },
   "outputs": [
    {
     "data": {
      "text/plain": [
       "0.25    21.0\n",
       "0.50    25.0\n",
       "0.75    28.0\n",
       "0.95    33.0\n",
       "Name: Age, dtype: float64"
      ]
     },
     "execution_count": 19,
     "metadata": {},
     "output_type": "execute_result"
    }
   ],
   "source": [
    "player['Age'].quantile([ 0.25, 0.5, 0.75, 0.95])"
   ]
  },
  {
   "cell_type": "markdown",
   "id": "4c8073e1",
   "metadata": {},
   "source": [
    "## Frequency Tables and Histograms"
   ]
  },
  {
   "cell_type": "code",
   "execution_count": 20,
   "id": "c0272b04",
   "metadata": {},
   "outputs": [
    {
     "data": {
      "text/plain": [
       "Text(0.5, 0, 'Age')"
      ]
     },
     "execution_count": 20,
     "metadata": {},
     "output_type": "execute_result"
    },
    {
     "data": {
      "image/png": "[encoded data removed]",
      "text/plain": [
       "<Figure size 288x288 with 1 Axes>"
      ]
     },
     "metadata": {
      "needs_background": "light"
     },
     "output_type": "display_data"
    }
   ],
   "source": [
    "\n",
    "ax = (player['Age']).plot.hist(figsize=(4, 4))\n",
    "ax.set_xlabel('Age')"
   ]
  },
  {
   "cell_type": "code",
   "execution_count": 21,
   "id": "1f1c39fe",
   "metadata": {},
   "outputs": [
    {
     "data": {
      "text/plain": [
       "<BarContainer object of 10 artists>"
      ]
     },
     "execution_count": 21,
     "metadata": {},
     "output_type": "execute_result"
    },
    {
     "data": {
      "image/png": "[encoded data removed]",
      "text/plain": [
       "<Figure size 648x360 with 1 Axes>"
      ]
     },
     "metadata": {
      "needs_background": "light"
     },
     "output_type": "display_data"
    }
   ],
   "source": [
    "plt.figure(figsize=(9,5))\n",
    "plt.bar(player.Name.iloc[:10], player.Age.iloc[:10])\n"
   ]
  },
  {
   "cell_type": "markdown",
   "id": "b9c63497",
   "metadata": {},
   "source": [
    "## Density Plots and Estimates"
   ]
  },
  {
   "cell_type": "code",
   "execution_count": 22,
   "id": "bb2792d6",
   "metadata": {},
   "outputs": [
    {
     "data": {
      "text/plain": [
       "Text(0.5, 0, 'Age')"
      ]
     },
     "execution_count": 22,
     "metadata": {},
     "output_type": "execute_result"
    },
    {
     "data": {
      "image/png": "[encoded data removed]",
      "text/plain": [
       "<Figure size 432x288 with 1 Axes>"
      ]
     },
     "metadata": {
      "needs_background": "light"
     },
     "output_type": "display_data"
    }
   ],
   "source": [
    "ax = player['Age'].plot.hist(density=True)\n",
    "player['Age'].plot.density(ax=ax)\n",
    "ax.set_xlabel('Age')"
   ]
  },
  {
   "cell_type": "markdown",
   "id": "ca0d1c66",
   "metadata": {},
   "source": [
    "# Bar Char"
   ]
  },
  {
   "cell_type": "code",
   "execution_count": 27,
   "id": "140ab6dd",
   "metadata": {
    "scrolled": true
   },
   "outputs": [
    {
     "data": {
      "text/html": [
       "<div>\n",
       "<style scoped>\n",
       "    .dataframe tbody tr th:only-of-type {\n",
       "        vertical-align: middle;\n",
       "    }\n",
       "\n",
       "    .dataframe tbody tr th {\n",
       "        vertical-align: top;\n",
       "    }\n",
       "\n",
       "    .dataframe thead th {\n",
       "        text-align: right;\n",
       "    }\n",
       "</style>\n",
       "<table border=\"1\" class=\"dataframe\">\n",
       "  <thead>\n",
       "    <tr style=\"text-align: right;\">\n",
       "      <th></th>\n",
       "      <th>Title</th>\n",
       "      <th>Release Date</th>\n",
       "      <th>Year</th>\n",
       "      <th>Color/B&amp;W</th>\n",
       "      <th>Genre</th>\n",
       "      <th>Language</th>\n",
       "      <th>Country</th>\n",
       "      <th>Rating</th>\n",
       "      <th>Lead Actor</th>\n",
       "      <th>Director Name</th>\n",
       "      <th>...</th>\n",
       "      <th>Cast FB Likes</th>\n",
       "      <th>Director FB Likes</th>\n",
       "      <th>Movie FB Likes</th>\n",
       "      <th>IMDb Score (1-10)</th>\n",
       "      <th>Total Reviews</th>\n",
       "      <th>Duration (min)</th>\n",
       "      <th>Gross Revenue</th>\n",
       "      <th>Budget</th>\n",
       "      <th>Unnamed: 19</th>\n",
       "      <th>Unnamed: 20</th>\n",
       "    </tr>\n",
       "  </thead>\n",
       "  <tbody>\n",
       "    <tr>\n",
       "      <th>0</th>\n",
       "      <td>Over the Hill to the Poorhouse</td>\n",
       "      <td>1920-09-15</td>\n",
       "      <td>1920</td>\n",
       "      <td>Black and White</td>\n",
       "      <td>Crime</td>\n",
       "      <td>English</td>\n",
       "      <td>USA</td>\n",
       "      <td>Not Rated</td>\n",
       "      <td>Stephen Carr</td>\n",
       "      <td>Harry F. Millarde</td>\n",
       "      <td>...</td>\n",
       "      <td>NaN</td>\n",
       "      <td>NaN</td>\n",
       "      <td>NaN</td>\n",
       "      <td>NaN</td>\n",
       "      <td>NaN</td>\n",
       "      <td>NaN</td>\n",
       "      <td>NaN</td>\n",
       "      <td>NaN</td>\n",
       "      <td>NaN</td>\n",
       "      <td>NaN</td>\n",
       "    </tr>\n",
       "    <tr>\n",
       "      <th>1</th>\n",
       "      <td>Metropolis</td>\n",
       "      <td>1927-01-26</td>\n",
       "      <td>1927</td>\n",
       "      <td>Black and White</td>\n",
       "      <td>Drama</td>\n",
       "      <td>German</td>\n",
       "      <td>Germany</td>\n",
       "      <td>Not Rated</td>\n",
       "      <td>Brigitte Helm</td>\n",
       "      <td>Fritz Lang</td>\n",
       "      <td>...</td>\n",
       "      <td>203.0</td>\n",
       "      <td>756.0</td>\n",
       "      <td>12000.0</td>\n",
       "      <td>8.3</td>\n",
       "      <td>260.0</td>\n",
       "      <td>145.0</td>\n",
       "      <td>26435.0</td>\n",
       "      <td>6000000.0</td>\n",
       "      <td>NaN</td>\n",
       "      <td>NaN</td>\n",
       "    </tr>\n",
       "    <tr>\n",
       "      <th>2</th>\n",
       "      <td>The Broadway Melody</td>\n",
       "      <td>1929-11-11</td>\n",
       "      <td>1929</td>\n",
       "      <td>Black and White</td>\n",
       "      <td>Musical</td>\n",
       "      <td>English</td>\n",
       "      <td>USA</td>\n",
       "      <td>Passed</td>\n",
       "      <td>Anita Page</td>\n",
       "      <td>Harry Beaumont</td>\n",
       "      <td>...</td>\n",
       "      <td>109.0</td>\n",
       "      <td>4.0</td>\n",
       "      <td>167.0</td>\n",
       "      <td>6.3</td>\n",
       "      <td>36.0</td>\n",
       "      <td>100.0</td>\n",
       "      <td>2808000.0</td>\n",
       "      <td>379000.0</td>\n",
       "      <td>NaN</td>\n",
       "      <td>NaN</td>\n",
       "    </tr>\n",
       "    <tr>\n",
       "      <th>3</th>\n",
       "      <td>42nd Street</td>\n",
       "      <td>1933-08-29</td>\n",
       "      <td>1933</td>\n",
       "      <td>Black and White</td>\n",
       "      <td>Comedy</td>\n",
       "      <td>English</td>\n",
       "      <td>USA</td>\n",
       "      <td>Unrated</td>\n",
       "      <td>Ginger Rogers</td>\n",
       "      <td>Lloyd Bacon</td>\n",
       "      <td>...</td>\n",
       "      <td>995.0</td>\n",
       "      <td>24.0</td>\n",
       "      <td>439.0</td>\n",
       "      <td>7.7</td>\n",
       "      <td>65.0</td>\n",
       "      <td>89.0</td>\n",
       "      <td>2300000.0</td>\n",
       "      <td>439000.0</td>\n",
       "      <td>NaN</td>\n",
       "      <td>NaN</td>\n",
       "    </tr>\n",
       "    <tr>\n",
       "      <th>4</th>\n",
       "      <td>Top Hat</td>\n",
       "      <td>1935-04-15</td>\n",
       "      <td>1935</td>\n",
       "      <td>Black and White</td>\n",
       "      <td>Comedy</td>\n",
       "      <td>English</td>\n",
       "      <td>USA</td>\n",
       "      <td>Approved</td>\n",
       "      <td>Ginger Rogers</td>\n",
       "      <td>Mark Sandrich</td>\n",
       "      <td>...</td>\n",
       "      <td>824.0</td>\n",
       "      <td>10.0</td>\n",
       "      <td>1000.0</td>\n",
       "      <td>7.8</td>\n",
       "      <td>66.0</td>\n",
       "      <td>81.0</td>\n",
       "      <td>3000000.0</td>\n",
       "      <td>609000.0</td>\n",
       "      <td>NaN</td>\n",
       "      <td>NaN</td>\n",
       "    </tr>\n",
       "  </tbody>\n",
       "</table>\n",
       "<p>5 rows × 21 columns</p>\n",
       "</div>"
      ],
      "text/plain": [
       "                            Title Release Date  Year        Color/B&W  \\\n",
       "0  Over the Hill to the Poorhouse   1920-09-15  1920  Black and White   \n",
       "1                      Metropolis   1927-01-26  1927  Black and White   \n",
       "2             The Broadway Melody   1929-11-11  1929  Black and White   \n",
       "3                     42nd Street   1933-08-29  1933  Black and White   \n",
       "4                         Top Hat   1935-04-15  1935  Black and White   \n",
       "\n",
       "     Genre Language  Country     Rating     Lead Actor      Director Name  \\\n",
       "0    Crime  English      USA  Not Rated   Stephen Carr  Harry F. Millarde   \n",
       "1    Drama   German  Germany  Not Rated  Brigitte Helm         Fritz Lang   \n",
       "2  Musical  English      USA     Passed     Anita Page     Harry Beaumont   \n",
       "3   Comedy  English      USA    Unrated  Ginger Rogers        Lloyd Bacon   \n",
       "4   Comedy  English      USA   Approved  Ginger Rogers      Mark Sandrich   \n",
       "\n",
       "   ...  Cast FB Likes  Director FB Likes  Movie FB Likes  IMDb Score (1-10)  \\\n",
       "0  ...            NaN                NaN             NaN                NaN   \n",
       "1  ...          203.0              756.0         12000.0                8.3   \n",
       "2  ...          109.0                4.0           167.0                6.3   \n",
       "3  ...          995.0               24.0           439.0                7.7   \n",
       "4  ...          824.0               10.0          1000.0                7.8   \n",
       "\n",
       "   Total Reviews  Duration (min)  Gross Revenue     Budget  Unnamed: 19  \\\n",
       "0            NaN             NaN            NaN        NaN          NaN   \n",
       "1          260.0           145.0        26435.0  6000000.0          NaN   \n",
       "2           36.0           100.0      2808000.0   379000.0          NaN   \n",
       "3           65.0            89.0      2300000.0   439000.0          NaN   \n",
       "4           66.0            81.0      3000000.0   609000.0          NaN   \n",
       "\n",
       "   Unnamed: 20  \n",
       "0          NaN  \n",
       "1          NaN  \n",
       "2          NaN  \n",
       "3          NaN  \n",
       "4          NaN  \n",
       "\n",
       "[5 rows x 21 columns]"
      ]
     },
     "execution_count": 27,
     "metadata": {},
     "output_type": "execute_result"
    }
   ],
   "source": [
    "imdb.head()"
   ]
  },
  {
   "cell_type": "code",
   "execution_count": 125,
   "id": "6415727d",
   "metadata": {},
   "outputs": [
    {
     "data": {
      "text/plain": [
       "<AxesSubplot:title={'center':'IMDB'}, xlabel='IMdb Rating', ylabel='Count'>"
      ]
     },
     "execution_count": 125,
     "metadata": {},
     "output_type": "execute_result"
    },
    {
     "data": {
      "image/png": "[encoded data removed]",
      "text/plain": [
       "<Figure size 1800x864 with 1 Axes>"
      ]
     },
     "metadata": {
      "needs_background": "light"
     },
     "output_type": "display_data"
    }
   ],
   "source": [
    "plt.figure(figsize=(25,12))\n",
    "plt.xlabel('IMdb Rating')\n",
    "plt.ylabel('Count')\n",
    "plt.title('IMDB')\n",
    "imdb['IMDb Score (1-10)'].value_counts().plot(kind='bar', color='black')"
   ]
  },
  {
   "cell_type": "code",
   "execution_count": 108,
   "id": "7eae9962",
   "metadata": {},
   "outputs": [
    {
     "data": {
      "text/plain": [
       "<AxesSubplot:title={'center':'Students Parent Education'}, xlabel='parent education level', ylabel='Count'>"
      ]
     },
     "execution_count": 108,
     "metadata": {},
     "output_type": "execute_result"
    },
    {
     "data": {
      "image/png": "[encoded data removed]",
      "text/plain": [
       "<Figure size 720x504 with 1 Axes>"
      ]
     },
     "metadata": {
      "needs_background": "light"
     },
     "output_type": "display_data"
    }
   ],
   "source": [
    "plt.figure(figsize=(10,7))\n",
    "plt.xlabel('parent education level')\n",
    "plt.ylabel('Count')\n",
    "plt.title('Students Parent Education')\n",
    "studentperformance['parental level of education'].value_counts().plot(kind='bar', color='m')"
   ]
  },
  {
   "cell_type": "code",
   "execution_count": 32,
   "id": "752e7ca9",
   "metadata": {},
   "outputs": [],
   "source": [
    "# now the revenue of the movie"
   ]
  },
  {
   "cell_type": "code",
   "execution_count": 33,
   "id": "e09a4e82",
   "metadata": {},
   "outputs": [],
   "source": [
    "revenue = imdb['Gross Revenue'].iloc[:6]"
   ]
  },
  {
   "cell_type": "code",
   "execution_count": 34,
   "id": "479c67f6",
   "metadata": {},
   "outputs": [
    {
     "data": {
      "text/plain": [
       "0          NaN\n",
       "1      26435.0\n",
       "2    2808000.0\n",
       "3    2300000.0\n",
       "4    3000000.0\n",
       "5     163245.0\n",
       "Name: Gross Revenue, dtype: float64"
      ]
     },
     "execution_count": 34,
     "metadata": {},
     "output_type": "execute_result"
    }
   ],
   "source": [
    "revenue"
   ]
  },
  {
   "cell_type": "code",
   "execution_count": 35,
   "id": "ff63a7e6",
   "metadata": {},
   "outputs": [
    {
     "data": {
      "text/plain": [
       "<matplotlib.legend.Legend at 0x1d8ba6bdfd0>"
      ]
     },
     "execution_count": 35,
     "metadata": {},
     "output_type": "execute_result"
    },
    {
     "data": {
      "image/png": "[encoded data removed]",
      "text/plain": [
       "<Figure size 648x360 with 1 Axes>"
      ]
     },
     "metadata": {
      "needs_background": "light"
     },
     "output_type": "display_data"
    }
   ],
   "source": [
    "plt.figure(figsize=(9,5))\n",
    "plt.xlabel('Movie')\n",
    "plt.ylabel('Budget (Millions)')\n",
    "plt.title('IMdb Movies')\n",
    "plt.barh(movie,revenue, label='Revenue')\n",
    "plt.barh(movie, budget, label='Budget')\n",
    "plt.legend(loc='best')"
   ]
  },
  {
   "cell_type": "code",
   "execution_count": 36,
   "id": "cfe22735",
   "metadata": {},
   "outputs": [
    {
     "data": {
      "text/plain": [
       "(array([2., 0., 0., 0., 0., 0., 0., 1., 0., 2.]),\n",
       " array([  26435. ,  323791.5,  621148. ,  918504.5, 1215861. , 1513217.5,\n",
       "        1810574. , 2107930.5, 2405287. , 2702643.5, 3000000. ]),\n",
       " <BarContainer object of 10 artists>)"
      ]
     },
     "execution_count": 36,
     "metadata": {},
     "output_type": "execute_result"
    },
    {
     "data": {
      "image/png": "[encoded data removed]",
      "text/plain": [
       "<Figure size 432x288 with 1 Axes>"
      ]
     },
     "metadata": {
      "needs_background": "light"
     },
     "output_type": "display_data"
    }
   ],
   "source": [
    "plt.hist(revenue)"
   ]
  },
  {
   "cell_type": "code",
   "execution_count": null,
   "id": "6615dd61",
   "metadata": {},
   "outputs": [],
   "source": [
    "imdb['Genre'].value_counts().plot(kind='line')"
   ]
  },
  {
   "cell_type": "code",
   "execution_count": null,
   "id": "c65847df",
   "metadata": {},
   "outputs": [],
   "source": [
    "from numpy import mean, median"
   ]
  },
  {
   "cell_type": "code",
   "execution_count": null,
   "id": "a8d74b8b",
   "metadata": {},
   "outputs": [],
   "source": [
    "mean(imdb['Budget'])"
   ]
  },
  {
   "cell_type": "code",
   "execution_count": null,
   "id": "043bece6",
   "metadata": {},
   "outputs": [],
   "source": [
    "imdb['Budget'].mean()"
   ]
  },
  {
   "cell_type": "code",
   "execution_count": null,
   "id": "1592219d",
   "metadata": {},
   "outputs": [],
   "source": [
    "imdb[(imdb.Genre == 'Drama') & (imdb.Year > 2014)][['Title', 'Lead Actor']]"
   ]
  },
  {
   "cell_type": "markdown",
   "id": "9fdcd32a",
   "metadata": {},
   "source": [
    "# IQR"
   ]
  },
  {
   "cell_type": "code",
   "execution_count": null,
   "id": "134503d7",
   "metadata": {},
   "outputs": [],
   "source": [
    "q3,q1 = np.percentile(imdb['Budget'], [75,25])\n",
    "iqr = q3 - q1"
   ]
  },
  {
   "cell_type": "markdown",
   "id": "aa7de0aa",
   "metadata": {},
   "source": [
    "Box Plot"
   ]
  },
  {
   "cell_type": "code",
   "execution_count": null,
   "id": "a9f5c6ff",
   "metadata": {},
   "outputs": [],
   "source": [
    "imdb.boxplot(column='Budget')"
   ]
  },
  {
   "cell_type": "code",
   "execution_count": null,
   "id": "78069b33",
   "metadata": {},
   "outputs": [],
   "source": [
    "record = pd.read_csv('./record.csv')"
   ]
  },
  {
   "cell_type": "code",
   "execution_count": null,
   "id": "d8839328",
   "metadata": {},
   "outputs": [],
   "source": [
    "record"
   ]
  },
  {
   "cell_type": "code",
   "execution_count": null,
   "id": "5bc0552f",
   "metadata": {},
   "outputs": [],
   "source": [
    "record['salary'] = record['salary'].fillna(record.salary.mean())"
   ]
  },
  {
   "cell_type": "code",
   "execution_count": null,
   "id": "8bafaeef",
   "metadata": {},
   "outputs": [],
   "source": [
    "record"
   ]
  },
  {
   "cell_type": "code",
   "execution_count": null,
   "id": "67804a8e",
   "metadata": {},
   "outputs": [],
   "source": [
    "record.salary.mean()"
   ]
  },
  {
   "cell_type": "code",
   "execution_count": null,
   "id": "88fa7268",
   "metadata": {},
   "outputs": [],
   "source": [
    "record.salary.min()\n"
   ]
  },
  {
   "cell_type": "code",
   "execution_count": null,
   "id": "1afc0532",
   "metadata": {},
   "outputs": [],
   "source": [
    "record.salary.max()"
   ]
  },
  {
   "cell_type": "markdown",
   "id": "666ecd44",
   "metadata": {},
   "source": [
    "# percentile"
   ]
  },
  {
   "cell_type": "code",
   "execution_count": null,
   "id": "5139f49b",
   "metadata": {},
   "outputs": [],
   "source": [
    "median = np.percentile(record.salary,50)"
   ]
  },
  {
   "cell_type": "code",
   "execution_count": null,
   "id": "67f6511e",
   "metadata": {},
   "outputs": [],
   "source": [
    "Q3 = np.percentile(record.salary,75)"
   ]
  },
  {
   "cell_type": "code",
   "execution_count": null,
   "id": "41d4251e",
   "metadata": {},
   "outputs": [],
   "source": [
    "Q1"
   ]
  },
  {
   "cell_type": "code",
   "execution_count": null,
   "id": "bd39848f",
   "metadata": {},
   "outputs": [],
   "source": [
    "Q3"
   ]
  },
  {
   "cell_type": "code",
   "execution_count": null,
   "id": "c3d24965",
   "metadata": {},
   "outputs": [],
   "source": [
    "median"
   ]
  },
  {
   "cell_type": "code",
   "execution_count": null,
   "id": "6c433023",
   "metadata": {},
   "outputs": [],
   "source": [
    "np.median(record.salary)"
   ]
  },
  {
   "cell_type": "code",
   "execution_count": null,
   "id": "63b4f6e2",
   "metadata": {},
   "outputs": [],
   "source": [
    "Q1"
   ]
  },
  {
   "cell_type": "code",
   "execution_count": null,
   "id": "181cd7b9",
   "metadata": {},
   "outputs": [],
   "source": [
    "IQR = Q3 - Q1"
   ]
  },
  {
   "cell_type": "code",
   "execution_count": null,
   "id": "30dc02f6",
   "metadata": {},
   "outputs": [],
   "source": [
    "IQR"
   ]
  },
  {
   "cell_type": "markdown",
   "id": "7fac4ef4",
   "metadata": {},
   "source": [
    "## IMDB Box Plot"
   ]
  },
  {
   "cell_type": "code",
   "execution_count": null,
   "id": "32e6d8af",
   "metadata": {},
   "outputs": [],
   "source": [
    "imdb.head()"
   ]
  },
  {
   "cell_type": "code",
   "execution_count": null,
   "id": "01eb7177",
   "metadata": {},
   "outputs": [],
   "source": [
    "Q1 = np.percentile(imdb['Gross Revenue'],25)"
   ]
  },
  {
   "cell_type": "code",
   "execution_count": null,
   "id": "fc6f2546",
   "metadata": {},
   "outputs": [],
   "source": [
    "Q3 = np.percentile(imdb.Budget,5)"
   ]
  },
  {
   "cell_type": "code",
   "execution_count": null,
   "id": "45fe1351",
   "metadata": {},
   "outputs": [],
   "source": [
    "median = np.percentile(imdb.Budget,50)"
   ]
  },
  {
   "cell_type": "code",
   "execution_count": null,
   "id": "1ef1f493",
   "metadata": {},
   "outputs": [],
   "source": [
    "Q1"
   ]
  },
  {
   "cell_type": "code",
   "execution_count": null,
   "id": "308cc442",
   "metadata": {},
   "outputs": [],
   "source": [
    "Q3"
   ]
  },
  {
   "cell_type": "code",
   "execution_count": null,
   "id": "8b27c661",
   "metadata": {},
   "outputs": [],
   "source": [
    "median"
   ]
  },
  {
   "cell_type": "code",
   "execution_count": null,
   "id": "ea4b6527",
   "metadata": {},
   "outputs": [],
   "source": [
    "imdb.boxplot(column='Gross Revenue')"
   ]
  },
  {
   "cell_type": "markdown",
   "id": "7ae40712",
   "metadata": {},
   "source": [
    "### Covid 19 data"
   ]
  },
  {
   "cell_type": "code",
   "execution_count": null,
   "id": "778b0fe9",
   "metadata": {},
   "outputs": [],
   "source": [
    "covid = pd.read_csv('./covid.csv')"
   ]
  },
  {
   "cell_type": "code",
   "execution_count": null,
   "id": "d35e0340",
   "metadata": {},
   "outputs": [],
   "source": [
    "covid.New_deaths.tail()"
   ]
  },
  {
   "cell_type": "code",
   "execution_count": null,
   "id": "1377a6a9",
   "metadata": {
    "scrolled": true
   },
   "outputs": [],
   "source": [
    "covid.boxplot(column='New_deaths')"
   ]
  },
  {
   "cell_type": "code",
   "execution_count": null,
   "id": "9545c888",
   "metadata": {},
   "outputs": [],
   "source": [
    "imdb.head(10)"
   ]
  },
  {
   "cell_type": "code",
   "execution_count": null,
   "id": "8e3e2cbe",
   "metadata": {},
   "outputs": [],
   "source": [
    "imdb = imdb.dropna()"
   ]
  },
  {
   "cell_type": "code",
   "execution_count": null,
   "id": "0d34b3f4",
   "metadata": {},
   "outputs": [],
   "source": [
    "imdb = pd.read_excel('./imdb.xlsx')"
   ]
  },
  {
   "cell_type": "code",
   "execution_count": null,
   "id": "57827b54",
   "metadata": {},
   "outputs": [],
   "source": [
    "imdb = imdb['Budget'].dropna()"
   ]
  },
  {
   "cell_type": "code",
   "execution_count": null,
   "id": "da22b1b2",
   "metadata": {},
   "outputs": [],
   "source": [
    "imdb.head(10)"
   ]
  },
  {
   "cell_type": "code",
   "execution_count": null,
   "id": "ac47bf39",
   "metadata": {},
   "outputs": [],
   "source": [
    "imdb = pd.read_excel('./imdb.xlsx')"
   ]
  },
  {
   "cell_type": "code",
   "execution_count": null,
   "id": "ff8f3a30",
   "metadata": {},
   "outputs": [],
   "source": [
    "imdb.dropna(subset=['Gross Revenue', 'Budget']).iloc[:10]"
   ]
  },
  {
   "cell_type": "code",
   "execution_count": null,
   "id": "87c91259",
   "metadata": {
    "scrolled": true
   },
   "outputs": [],
   "source": [
    "imdb.iloc[:15]"
   ]
  },
  {
   "cell_type": "markdown",
   "id": "cb680775",
   "metadata": {},
   "source": [
    "### Correlation"
   ]
  },
  {
   "cell_type": "code",
   "execution_count": null,
   "id": "c01fd423",
   "metadata": {},
   "outputs": [],
   "source": [
    "imdb.corr()"
   ]
  },
  {
   "cell_type": "code",
   "execution_count": null,
   "id": "87d3575c",
   "metadata": {},
   "outputs": [],
   "source": [
    "player_data = pd.read_csv('./player.csv')"
   ]
  },
  {
   "cell_type": "code",
   "execution_count": null,
   "id": "328282f0",
   "metadata": {
    "scrolled": true
   },
   "outputs": [],
   "source": [
    "player_data"
   ]
  },
  {
   "cell_type": "code",
   "execution_count": null,
   "id": "7967c055",
   "metadata": {},
   "outputs": [],
   "source": [
    "sns.scatterplot(player_data['Age'], player_data['Overall'])"
   ]
  },
  {
   "cell_type": "code",
   "execution_count": null,
   "id": "4add271e",
   "metadata": {},
   "outputs": [],
   "source": [
    "player_data['Age'].std()"
   ]
  },
  {
   "cell_type": "code",
   "execution_count": null,
   "id": "be62fd4c",
   "metadata": {},
   "outputs": [],
   "source": [
    "player_data['Age'].quantile([0.25, 0.5, 0.75])"
   ]
  },
  {
   "cell_type": "code",
   "execution_count": null,
   "id": "8d1dbc55",
   "metadata": {},
   "outputs": [],
   "source": [
    "player_data['Age'].median()"
   ]
  },
  {
   "cell_type": "code",
   "execution_count": null,
   "id": "a0d83b49",
   "metadata": {},
   "outputs": [],
   "source": [
    "ax = player_data['Age'].plot.hist(density=True, xlim=[0,12])\n",
    "player_data['Age'].plot.density(ax=ax)\n",
    "ax.set_xlabel('Murder Rate (per 100,000)')"
   ]
  },
  {
   "cell_type": "code",
   "execution_count": null,
   "id": "3b1db82d",
   "metadata": {},
   "outputs": [],
   "source": [
    "ax = player_data.plot.scatter(x='Overall', y='Potential', figsize=(7, 7), marker='$\\u25EF$')\n",
    "ax.set_xlabel('Overall')\n",
    "ax.set_ylabel('Potential')\n",
    "ax.axhline(0, color='grey', lw=1)\n",
    "ax.axvline(0, color='grey', lw=1)"
   ]
  },
  {
   "cell_type": "code",
   "execution_count": null,
   "id": "46fa572c",
   "metadata": {
    "scrolled": true
   },
   "outputs": [],
   "source": [
    "ax = player_data.plot.hexbin(x='Overall', y='Potential',\n",
    "gridsize=30, sharex=False, figsize=(5, 4))\n",
    "ax.set_xlabel('Finished Square Feet')\n",
    "ax.set_ylabel('Tax-Assessed Value')"
   ]
  },
  {
   "cell_type": "code",
   "execution_count": null,
   "id": "0d839bb4",
   "metadata": {},
   "outputs": [],
   "source": [
    "imdb"
   ]
  },
  {
   "cell_type": "code",
   "execution_count": null,
   "id": "dec7b1f6",
   "metadata": {},
   "outputs": [],
   "source": [
    "ax = player.plot.hexbin(x='Overall', y='Potential',\n",
    "gridsize=30, sharex=False, figsize=(5, 4))\n",
    "ax.set_xlabel('Overall')\n",
    "ax.set_ylabel('Tax-Assessed Value')"
   ]
  },
  {
   "cell_type": "code",
   "execution_count": 133,
   "id": "434d0af3",
   "metadata": {},
   "outputs": [
    {
     "data": {
      "text/plain": [
       "<matplotlib.lines.Line2D at 0x1d8d146cd60>"
      ]
     },
     "execution_count": 133,
     "metadata": {},
     "output_type": "execute_result"
    },
    {
     "data": {
      "image/png": "[encoded data removed]",
      "text/plain": [
       "<Figure size 288x288 with 1 Axes>"
      ]
     },
     "metadata": {
      "needs_background": "light"
     },
     "output_type": "display_data"
    }
   ],
   "source": [
    "ax = studentperformance.plot.scatter(x='reading score', y='writing score', figsize=(4, 4), marker='$\\u25EF$', color='purple')\n",
    "ax.set_xlabel('Reading Score')\n",
    "ax.set_ylabel('Writing Score')\n",
    "ax.axhline(0, color='grey', lw=1)\n",
    "ax.axvline(0, color='grey', lw=1)"
   ]
  },
  {
   "cell_type": "code",
   "execution_count": null,
   "id": "c5049c1c",
   "metadata": {},
   "outputs": [],
   "source": []
  }
 ],
 "metadata": {
  "kernelspec": {
   "display_name": "Python 3 (ipykernel)",
   "language": "python",
   "name": "python3"
  },
  "language_info": {
   "codemirror_mode": {
    "name": "ipython",
    "version": 3
   },
   "file_extension": ".py",
   "mimetype": "text/x-python",
   "name": "python",
   "nbconvert_exporter": "python",
   "pygments_lexer": "ipython3",
   "version": "3.9.6"
  }
 },
 "nbformat": 4,
 "nbformat_minor": 5
}
